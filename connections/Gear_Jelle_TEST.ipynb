{
 "cells": [
  {
   "cell_type": "code",
   "execution_count": 2,
   "metadata": {},
   "outputs": [],
   "source": [
    "import time\n",
    "import serial\n",
    "import serial.tools.list_ports as port_list"
   ]
  },
  {
   "cell_type": "code",
   "execution_count": 4,
   "metadata": {},
   "outputs": [
    {
     "name": "stdout",
     "output_type": "stream",
     "text": [
      "USB-SERIAL CH340 (COM3)\n"
     ]
    },
    {
     "data": {
      "text/plain": [
       "[None]"
      ]
     },
     "execution_count": 4,
     "metadata": {},
     "output_type": "execute_result"
    }
   ],
   "source": [
    "all_ports = list(port_list.comports())\n",
    "pos_ports = [p.device for p in all_ports  if \"COM3\" in p.description]\n",
    "[print(p.description) for p in all_ports]"
   ]
  },
  {
   "cell_type": "code",
   "execution_count": 6,
   "metadata": {},
   "outputs": [
    {
     "name": "stdout",
     "output_type": "stream",
     "text": [
      "['COM3']\n",
      ".\n",
      "succes\n"
     ]
    }
   ],
   "source": [
    "## Search for Suitable Port\n",
    "print(pos_ports)\n",
    "if pos_ports != []:\n",
    "    for port in pos_ports: \n",
    "        print(\".\")\n",
    "        try:      ard = serial.Serial(port, 115200, timeout=0.1, write_timeout=0.1, inter_byte_timeout=0.1)\n",
    "        except:   continue\n",
    "        #ard = serial.Serial(port, 115200, timeout=0.1, write_timeout=0.1, inter_byte_timeout=0.1)\n",
    "        print(\"trying\", port, \"...\", end=\"\")\n",
    "        response = read_info(ard)\n",
    "        print(response, \"...\", end=\"\")\n",
    "\n",
    "        if response == \"\":\n",
    "            print(\" No response\")\n",
    "            ard.close()\n",
    "            ard = None\n",
    "            continue\n",
    "\n",
    "        if response.find(\"HangingArm\"): \n",
    "            print(\"Port Found: \", port)\n",
    "            break\n",
    "        else:  \n",
    "            print(\"Invalid response\")\n",
    "            ard.close()\n",
    "            ard = None\n",
    "else:\n",
    "    ard = None\n",
    "print(\"succes\")\n",
    "\n",
    "def read_info(ard):\n",
    "\n",
    "    for _ in range(10): \n",
    "        response = ard.readline().decode(\"utf-8\").split(\"\\r\")[0]\n",
    "        if response == \"\":\n",
    "            print(\".\",end=\"\")\n",
    "        if response == \"Startup\":\n",
    "            print(\"Starting up device\")\n",
    "            time.sleep(.1)\n",
    "            break         \n",
    "    #ard.write(b\"Info\\r\\n\")\n",
    "    Info = ard.readline().decode(\"utf-8\").split(\"\\r\")[0]\n",
    "    print(\"Device Info: \"+ Info)  "
   ]
  },
  {
   "cell_type": "code",
   "execution_count": 20,
   "metadata": {},
   "outputs": [
    {
     "name": "stdout",
     "output_type": "stream",
     "text": [
      "Serial<id=0x223e6cd1a00, open=True>(port='COM4', baudrate=115200, bytesize=8, parity='N', stopbits=1, timeout=0.1, xonxoff=False, rtscts=False, dsrdtr=False)\n"
     ]
    }
   ],
   "source": [
    "print(ard)"
   ]
  },
  {
   "cell_type": "code",
   "execution_count": 22,
   "metadata": {},
   "outputs": [],
   "source": [
    "ard.write(b\"\\r\\n\\r\\n\")\n",
    "time.sleep(2)\n",
    "ard.flushInput()"
   ]
  },
  {
   "cell_type": "code",
   "execution_count": 22,
   "metadata": {},
   "outputs": [
    {
     "data": {
      "text/plain": [
       "8"
      ]
     },
     "execution_count": 22,
     "metadata": {},
     "output_type": "execute_result"
    }
   ],
   "source": [
    "ard.write(bytearray(\"M 1 -4\"+\"\\r\\n\",\"utf-8\"))"
   ]
  },
  {
   "cell_type": "code",
   "execution_count": 64,
   "metadata": {},
   "outputs": [
    {
     "data": {
      "text/plain": [
       "6"
      ]
     },
     "execution_count": 64,
     "metadata": {},
     "output_type": "execute_result"
    }
   ],
   "source": [
    "ard.write(bytearray(\"STOP\"+\"\\r\\n\",\"utf-8\"))"
   ]
  }
 ],
 "metadata": {
  "kernelspec": {
   "display_name": "master",
   "language": "python",
   "name": "python3"
  },
  "language_info": {
   "codemirror_mode": {
    "name": "ipython",
    "version": 3
   },
   "file_extension": ".py",
   "mimetype": "text/x-python",
   "name": "python",
   "nbconvert_exporter": "python",
   "pygments_lexer": "ipython3",
   "version": "3.9.13"
  },
  "orig_nbformat": 4
 },
 "nbformat": 4,
 "nbformat_minor": 2
}
