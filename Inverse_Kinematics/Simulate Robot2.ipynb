{
 "cells": [
  {
   "cell_type": "code",
   "execution_count": 2,
   "id": "f12077a0",
   "metadata": {},
   "outputs": [],
   "source": [
    "%matplotlib qt\n",
    "import numpy as np\n",
    "import matplotlib.pyplot as plt\n",
    "import torch\n",
    "import torch.optim as optim\n",
    "\n",
    "%load_ext autoreload\n",
    "%autoreload 2"
   ]
  },
  {
   "cell_type": "code",
   "execution_count": 3,
   "id": "e913f89f",
   "metadata": {},
   "outputs": [],
   "source": [
    "#from forward import *\n",
    "import sys\n",
    "sys.path.append(\"../static/\")\n",
    "sys.path.append(\"..\")\n",
    "import kinematics\n",
    "from inverse import with_torch\n",
    "from presets_robot_models import preset_models\n",
    "#from learn import evaluate_plot, train_motors\n",
    "from learn import *"
   ]
  },
  {
   "cell_type": "code",
   "execution_count": 4,
   "id": "a06a2546",
   "metadata": {},
   "outputs": [],
   "source": [
    "alpha, theta, radius, dists, active, limits = get_DH_params(preset_models[\"HangingArm\"])"
   ]
  },
  {
   "cell_type": "code",
   "execution_count": 5,
   "id": "3a59c300",
   "metadata": {},
   "outputs": [],
   "source": [
    "For_model = kinematics.Kinematics(\"HangingArm\")"
   ]
  },
  {
   "cell_type": "code",
   "execution_count": 166,
   "id": "d029003d",
   "metadata": {},
   "outputs": [],
   "source": [
    "model = torch.load(\"./kine_models/HangingArm.pt\")"
   ]
  },
  {
   "attachments": {},
   "cell_type": "markdown",
   "id": "eba69998",
   "metadata": {},
   "source": [
    "# For Training"
   ]
  },
  {
   "cell_type": "code",
   "execution_count": 73,
   "id": "537abb92",
   "metadata": {},
   "outputs": [],
   "source": [
    "For_model.orientation = False\n",
    "inputs, target = For_model.generate_maps()\n",
    "n_in  = inputs.shape[1]\n",
    "n_out = target.shape[1]\n",
    "model = NeuralNetworkStack(n_in, n_out, nlayers=5, depth=20)\n",
    "optimizer = optim.Adam(model.parameters(), lr=1e-3)"
   ]
  },
  {
   "attachments": {},
   "cell_type": "markdown",
   "id": "85c61064",
   "metadata": {},
   "source": [
    "# generate map"
   ]
  },
  {
   "cell_type": "code",
   "execution_count": 168,
   "id": "e8ef4afb",
   "metadata": {},
   "outputs": [],
   "source": [
    "inputs, target = For_model.generate_maps()"
   ]
  },
  {
   "cell_type": "code",
   "execution_count": 169,
   "id": "7443f693",
   "metadata": {},
   "outputs": [],
   "source": [
    "For_model.orientation = False"
   ]
  },
  {
   "cell_type": "code",
   "execution_count": 93,
   "id": "04123e31",
   "metadata": {},
   "outputs": [
    {
     "name": "stdout",
     "output_type": "stream",
     "text": [
      "tensor(1783.6183, grad_fn=<MeanBackward0>)\n"
     ]
    },
    {
     "ename": "IndexError",
     "evalue": "index 3 is out of bounds for axis 1 with size 3",
     "output_type": "error",
     "traceback": [
      "\u001b[1;31m---------------------------------------------------------------------------\u001b[0m",
      "\u001b[1;31mIndexError\u001b[0m                                Traceback (most recent call last)",
      "\u001b[1;32mc:\\Users\\mheva\\OneDrive\\Documents\\GitHub\\Stitching_Arm_Master_Thesis\\Inverse_Kinematics\\Simulate Robot2.ipynb Cell 11\u001b[0m in \u001b[0;36m1\n\u001b[1;32m----> <a href='vscode-notebook-cell:/c%3A/Users/mheva/OneDrive/Documents/GitHub/Stitching_Arm_Master_Thesis/Inverse_Kinematics/Simulate%20Robot2.ipynb#X13sZmlsZQ%3D%3D?line=0'>1</a>\u001b[0m evaluate_plot(For_model, model)\n",
      "File \u001b[1;32mc:\\Users\\mheva\\OneDrive\\Documents\\GitHub\\Stitching_Arm_Master_Thesis\\Inverse_Kinematics\\..\\learn.py:170\u001b[0m, in \u001b[0;36mevaluate_plot\u001b[1;34m(For_model, model)\u001b[0m\n\u001b[0;32m    167\u001b[0m axs[\u001b[39m1\u001b[39m]\u001b[39m.\u001b[39mset_title(\u001b[39m\"\u001b[39m\u001b[39mblue = target\u001b[39m\u001b[39m\"\u001b[39m)\n\u001b[0;32m    169\u001b[0m fig,axs \u001b[39m=\u001b[39m plt\u001b[39m.\u001b[39msubplots(\u001b[39m1\u001b[39m,\u001b[39m3\u001b[39m)\n\u001b[1;32m--> 170\u001b[0m axs[\u001b[39m0\u001b[39m]\u001b[39m.\u001b[39mplot(pred_xys[:,\u001b[39m3\u001b[39;49m],inputs[:,\u001b[39m3\u001b[39m], \u001b[39m\"\u001b[39m\u001b[39mo\u001b[39m\u001b[39m\"\u001b[39m)\n\u001b[0;32m    171\u001b[0m axs[\u001b[39m0\u001b[39m]\u001b[39m.\u001b[39mset_xlabel(\u001b[39m\"\u001b[39m\u001b[39ma\u001b[39m\u001b[39m\"\u001b[39m)\n\u001b[0;32m    172\u001b[0m axs[\u001b[39m0\u001b[39m]\u001b[39m.\u001b[39mset_ylabel(\u001b[39m\"\u001b[39m\u001b[39ma\u001b[39m\u001b[39m\"\u001b[39m)\n",
      "\u001b[1;31mIndexError\u001b[0m: index 3 is out of bounds for axis 1 with size 3"
     ]
    }
   ],
   "source": [
    "evaluate_plot(For_model, model)"
   ]
  },
  {
   "cell_type": "code",
   "execution_count": 90,
   "id": "a54963e5",
   "metadata": {},
   "outputs": [
    {
     "name": "stdout",
     "output_type": "stream",
     "text": [
      "7379.25\n",
      "5340.28\n",
      "4640.36\n",
      "3938.33\n",
      "3493.0\n",
      "2911.0\n",
      "2815.35\n",
      "2594.39\n",
      "2588.31\n",
      "2677.15\n",
      "2671.52\n",
      "2504.1\n",
      "2530.43\n",
      "2618.14\n",
      "2479.56\n",
      "2417.25\n",
      "2376.71\n",
      "2415.34\n",
      "2153.74\n",
      "2168.43\n",
      "2079.71\n",
      "2067.44\n",
      "1967.91\n",
      "2122.92\n",
      "2083.38\n",
      "2063.31\n",
      "2001.52\n",
      "1996.47\n",
      "1910.47\n",
      "2017.83\n",
      "1882.54\n",
      "1886.79\n",
      "1869.01\n",
      "1983.18\n",
      "1923.21\n",
      "1838.77\n",
      "1843.88\n",
      "2005.3\n",
      "1868.58\n",
      "1985.1\n",
      "1833.72\n",
      "1823.41\n",
      "1929.62\n",
      "1752.6\n",
      "1803.12\n",
      "1849.59\n",
      "1674.27\n",
      "1831.73\n",
      "1788.27\n",
      "1712.34\n",
      "1768.89\n",
      "1796.19\n",
      "1800.4\n",
      "1788.81\n",
      "1784.93\n",
      "1827.2\n",
      "1817.2\n",
      "1817.54\n",
      "1782.02\n",
      "1858.07\n",
      "1758.07\n",
      "1798.94\n",
      "1783.52\n",
      "1723.3\n",
      "1872.5\n",
      "1768.98\n",
      "1869.56\n",
      "1785.31\n",
      "1785.22\n",
      "1905.02\n",
      "1735.48\n",
      "1857.2\n",
      "1863.94\n",
      "1819.18\n",
      "1863.56\n",
      "1746.44\n",
      "1758.26\n",
      "1736.46\n",
      "1812.12\n",
      "1785.46\n",
      "1727.15\n",
      "1745.61\n",
      "1779.55\n",
      "1764.02\n",
      "1865.76\n",
      "1773.64\n",
      "1848.99\n",
      "1868.68\n",
      "1741.62\n",
      "1678.8\n",
      "1742.98\n",
      "1916.85\n",
      "1729.51\n",
      "1843.54\n",
      "1738.19\n",
      "1854.94\n",
      "1733.83\n",
      "1756.79\n",
      "1811.82\n",
      "1854.82\n",
      "1813.71\n",
      "1902.4\n",
      "1840.41\n",
      "1746.85\n",
      "1724.62\n",
      "1741.45\n",
      "1645.75\n",
      "1860.03\n",
      "1829.38\n",
      "1829.76\n",
      "1832.06\n",
      "1735.7\n",
      "1767.28\n",
      "1833.38\n",
      "1701.1\n",
      "1699.28\n",
      "1886.81\n",
      "1852.3\n",
      "1743.84\n",
      "1738.18\n",
      "1755.53\n",
      "1737.45\n",
      "1834.24\n",
      "1765.14\n",
      "1881.39\n",
      "1861.27\n",
      "1739.72\n",
      "1859.67\n",
      "1682.7\n",
      "1822.42\n",
      "1725.08\n",
      "1841.78\n",
      "1802.79\n",
      "1809.97\n",
      "1803.76\n",
      "1801.28\n",
      "1822.55\n",
      "1730.31\n",
      "1843.05\n",
      "1861.48\n",
      "1753.33\n",
      "1795.27\n",
      "1738.17\n",
      "1730.02\n",
      "1687.96\n",
      "1727.16\n",
      "1713.73\n",
      "1783.17\n",
      "1796.82\n",
      "1867.96\n",
      "1750.27\n",
      "1774.74\n",
      "1806.53\n",
      "1734.9\n",
      "1725.52\n",
      "1736.74\n",
      "1767.03\n",
      "1830.82\n",
      "1732.54\n",
      "1815.65\n",
      "1801.19\n",
      "1748.12\n",
      "1810.47\n",
      "1807.35\n",
      "1783.75\n",
      "1927.06\n",
      "1724.78\n",
      "1831.72\n",
      "1807.17\n",
      "1781.44\n",
      "1707.43\n",
      "1739.82\n",
      "1793.06\n",
      "1820.98\n",
      "1700.5\n",
      "1780.33\n",
      "1878.92\n",
      "1784.36\n",
      "1723.12\n",
      "1794.02\n",
      "1797.41\n",
      "1701.63\n",
      "1754.9\n",
      "1791.85\n",
      "1783.44\n",
      "1839.15\n",
      "1862.25\n",
      "1687.9\n",
      "1703.03\n",
      "1788.5\n",
      "1778.62\n",
      "1702.55\n",
      "1790.84\n",
      "1713.66\n",
      "1845.2\n",
      "1832.46\n",
      "1775.52\n",
      "1915.03\n",
      "1794.67\n",
      "1790.32\n",
      "1743.95\n",
      "1774.85\n",
      "1849.66\n",
      "1843.39\n",
      "1781.1\n",
      "1708.4\n",
      "1666.07\n",
      "1780.58\n",
      "1812.84\n",
      "1721.09\n",
      "1756.56\n",
      "1784.93\n",
      "1763.53\n",
      "1853.17\n",
      "1795.5\n",
      "1842.61\n",
      "1811.75\n",
      "1833.05\n",
      "1766.57\n",
      "1775.34\n",
      "1783.75\n",
      "1747.31\n",
      "1792.47\n",
      "1875.53\n",
      "1893.56\n",
      "1771.43\n",
      "1788.15\n",
      "1704.18\n",
      "1744.33\n",
      "1825.82\n",
      "1748.35\n",
      "1743.6\n",
      "1762.27\n",
      "1784.78\n",
      "1747.11\n",
      "1806.51\n",
      "1803.2\n",
      "1746.63\n",
      "1773.63\n",
      "1820.66\n",
      "1903.41\n",
      "1746.85\n",
      "1841.48\n",
      "1702.97\n",
      "1730.83\n",
      "1765.67\n",
      "1821.37\n",
      "1832.69\n",
      "1797.65\n",
      "1844.57\n",
      "1730.49\n",
      "1796.26\n",
      "1793.39\n",
      "1786.91\n",
      "1738.27\n",
      "1812.37\n",
      "1734.5\n",
      "1708.98\n",
      "1635.47\n",
      "1735.23\n",
      "1808.49\n",
      "1687.51\n",
      "1783.65\n",
      "1670.37\n",
      "1737.45\n",
      "1752.5\n",
      "1683.84\n",
      "1776.72\n",
      "1869.86\n",
      "1847.78\n",
      "1848.7\n",
      "1807.09\n",
      "1776.06\n"
     ]
    },
    {
     "ename": "KeyboardInterrupt",
     "evalue": "",
     "output_type": "error",
     "traceback": [
      "\u001b[1;31m---------------------------------------------------------------------------\u001b[0m",
      "\u001b[1;31mKeyboardInterrupt\u001b[0m                         Traceback (most recent call last)",
      "\u001b[1;32mc:\\Users\\mheva\\OneDrive\\Documents\\GitHub\\Stitching_Arm_Master_Thesis\\Inverse_Kinematics\\Simulate Robot2.ipynb Cell 12\u001b[0m in \u001b[0;36m1\n\u001b[1;32m----> <a href='vscode-notebook-cell:/c%3A/Users/mheva/OneDrive/Documents/GitHub/Stitching_Arm_Master_Thesis/Inverse_Kinematics/Simulate%20Robot2.ipynb#X14sZmlsZQ%3D%3D?line=0'>1</a>\u001b[0m train_positions(For_model, model)\n",
      "File \u001b[1;32mc:\\Users\\mheva\\OneDrive\\Documents\\GitHub\\Stitching_Arm_Master_Thesis\\Inverse_Kinematics\\..\\learn.py:63\u001b[0m, in \u001b[0;36mtrain_positions\u001b[1;34m(For_model, model, n_cycles)\u001b[0m\n\u001b[0;32m     60\u001b[0m loss \u001b[39m=\u001b[39m distance_loss(pred_xys, inputs)\u001b[39m.\u001b[39mmean()\n\u001b[0;32m     62\u001b[0m optimizer\u001b[39m.\u001b[39mzero_grad()\n\u001b[1;32m---> 63\u001b[0m loss\u001b[39m.\u001b[39;49mbackward()\n\u001b[0;32m     64\u001b[0m optimizer\u001b[39m.\u001b[39mstep()\n\u001b[0;32m     66\u001b[0m \u001b[39mprint\u001b[39m(np\u001b[39m.\u001b[39marray(loss\u001b[39m.\u001b[39mitem())\u001b[39m.\u001b[39mround(\u001b[39m2\u001b[39m))       \n",
      "File \u001b[1;32mc:\\Users\\mheva\\anaconda3\\envs\\master\\lib\\site-packages\\torch\\_tensor.py:396\u001b[0m, in \u001b[0;36mTensor.backward\u001b[1;34m(self, gradient, retain_graph, create_graph, inputs)\u001b[0m\n\u001b[0;32m    387\u001b[0m \u001b[39mif\u001b[39;00m has_torch_function_unary(\u001b[39mself\u001b[39m):\n\u001b[0;32m    388\u001b[0m     \u001b[39mreturn\u001b[39;00m handle_torch_function(\n\u001b[0;32m    389\u001b[0m         Tensor\u001b[39m.\u001b[39mbackward,\n\u001b[0;32m    390\u001b[0m         (\u001b[39mself\u001b[39m,),\n\u001b[1;32m   (...)\u001b[0m\n\u001b[0;32m    394\u001b[0m         create_graph\u001b[39m=\u001b[39mcreate_graph,\n\u001b[0;32m    395\u001b[0m         inputs\u001b[39m=\u001b[39minputs)\n\u001b[1;32m--> 396\u001b[0m torch\u001b[39m.\u001b[39;49mautograd\u001b[39m.\u001b[39;49mbackward(\u001b[39mself\u001b[39;49m, gradient, retain_graph, create_graph, inputs\u001b[39m=\u001b[39;49minputs)\n",
      "File \u001b[1;32mc:\\Users\\mheva\\anaconda3\\envs\\master\\lib\\site-packages\\torch\\autograd\\__init__.py:173\u001b[0m, in \u001b[0;36mbackward\u001b[1;34m(tensors, grad_tensors, retain_graph, create_graph, grad_variables, inputs)\u001b[0m\n\u001b[0;32m    168\u001b[0m     retain_graph \u001b[39m=\u001b[39m create_graph\n\u001b[0;32m    170\u001b[0m \u001b[39m# The reason we repeat same the comment below is that\u001b[39;00m\n\u001b[0;32m    171\u001b[0m \u001b[39m# some Python versions print out the first line of a multi-line function\u001b[39;00m\n\u001b[0;32m    172\u001b[0m \u001b[39m# calls in the traceback and some print out the last line\u001b[39;00m\n\u001b[1;32m--> 173\u001b[0m Variable\u001b[39m.\u001b[39;49m_execution_engine\u001b[39m.\u001b[39;49mrun_backward(  \u001b[39m# Calls into the C++ engine to run the backward pass\u001b[39;49;00m\n\u001b[0;32m    174\u001b[0m     tensors, grad_tensors_, retain_graph, create_graph, inputs,\n\u001b[0;32m    175\u001b[0m     allow_unreachable\u001b[39m=\u001b[39;49m\u001b[39mTrue\u001b[39;49;00m, accumulate_grad\u001b[39m=\u001b[39;49m\u001b[39mTrue\u001b[39;49;00m)\n",
      "\u001b[1;31mKeyboardInterrupt\u001b[0m: "
     ]
    }
   ],
   "source": [
    "train_positions(For_model, model)"
   ]
  },
  {
   "cell_type": "code",
   "execution_count": 89,
   "id": "f19b4adb",
   "metadata": {
    "scrolled": false
   },
   "outputs": [
    {
     "name": "stdout",
     "output_type": "stream",
     "text": [
      "10910.82294921875\n",
      "8381.51376953125\n",
      "7840.161474609375\n",
      "7857.16201171875\n",
      "7943.798876953125\n",
      "7542.03603515625\n",
      "7842.257763671875\n",
      "7710.9509765625\n",
      "7956.29150390625\n",
      "7865.8333984375\n",
      "7944.95068359375\n",
      "7806.859912109375\n",
      "8013.22978515625\n",
      "7791.94521484375\n",
      "7430.37158203125\n",
      "7632.027490234375\n",
      "7992.9291015625\n",
      "7594.913037109375\n",
      "7698.241064453125\n",
      "8033.4345703125\n",
      "7627.141845703125\n",
      "7834.92451171875\n",
      "8223.026416015626\n",
      "7752.871435546875\n",
      "8009.42880859375\n",
      "7785.232080078125\n",
      "7593.044775390625\n",
      "8076.146826171875\n",
      "8083.0544921875\n",
      "7857.88330078125\n",
      "7661.971875\n",
      "7852.24345703125\n",
      "7591.3400390625\n",
      "7544.761669921875\n",
      "8182.04150390625\n",
      "7801.605810546875\n",
      "7757.070849609375\n",
      "7777.653173828125\n",
      "7886.44814453125\n",
      "7845.945849609375\n",
      "8018.783642578125\n",
      "7505.630712890625\n",
      "7984.59404296875\n",
      "7353.711083984375\n",
      "7712.79296875\n",
      "7829.4587890625\n",
      "7666.9369140625\n",
      "7723.923046875\n",
      "8013.70146484375\n",
      "7572.76669921875\n",
      "7422.673291015625\n",
      "8039.899560546875\n",
      "8034.324169921875\n",
      "7593.17265625\n",
      "7369.3806640625\n",
      "7772.647021484375\n",
      "7964.13623046875\n",
      "7736.62802734375\n",
      "7579.15244140625\n",
      "7836.313623046875\n",
      "8264.924609375\n",
      "7889.3923828125\n",
      "7509.46904296875\n",
      "7637.66708984375\n",
      "7672.850439453125\n",
      "8155.57236328125\n",
      "8068.0060546875\n",
      "7844.80029296875\n",
      "8059.5244140625\n",
      "8033.831005859375\n",
      "7628.77060546875\n",
      "7930.869287109375\n",
      "7939.41484375\n",
      "7385.233349609375\n",
      "7524.536572265625\n",
      "7612.849169921875\n",
      "7718.103271484375\n",
      "7807.44775390625\n",
      "7685.425048828125\n",
      "8014.1369140625\n",
      "7468.76767578125\n",
      "7607.2083984375\n",
      "7794.167041015625\n",
      "7901.64501953125\n",
      "7611.982177734375\n",
      "7937.07587890625\n",
      "7795.38798828125\n",
      "8054.070166015625\n",
      "8088.559716796875\n",
      "7685.81552734375\n",
      "7523.31162109375\n",
      "7769.490234375\n",
      "7905.83740234375\n",
      "7844.004931640625\n",
      "7551.23388671875\n",
      "7947.183203125\n",
      "7605.6546875\n",
      "7830.300244140625\n",
      "8140.62890625\n",
      "7948.03369140625\n"
     ]
    }
   ],
   "source": [
    "train_motors(For_model, model)"
   ]
  },
  {
   "attachments": {},
   "cell_type": "markdown",
   "id": "e06a8240",
   "metadata": {},
   "source": [
    "# Blind Testing"
   ]
  },
  {
   "cell_type": "code",
   "execution_count": 68,
   "id": "13ea563d",
   "metadata": {},
   "outputs": [],
   "source": [
    "For_model.orientation = True\n",
    "inputs, targets = For_model.generate_paths()\n",
    "model = NeuralNetworkBlind(inputs.shape[1], targets.shape[1], nlayers=8, depth=10)\n",
    "optimizer = optim.Adam(model.parameters(), lr=1e-3)"
   ]
  },
  {
   "cell_type": "code",
   "execution_count": 39,
   "id": "04e9678d",
   "metadata": {},
   "outputs": [
    {
     "name": "stdout",
     "output_type": "stream",
     "text": [
      "231.78\n",
      "192.31  caching model improvement\n",
      "156.56  caching model improvement\n",
      "123.23  caching model improvement\n"
     ]
    },
    {
     "ename": "KeyboardInterrupt",
     "evalue": "",
     "output_type": "error",
     "traceback": [
      "\u001b[1;31m---------------------------------------------------------------------------\u001b[0m",
      "\u001b[1;31mKeyboardInterrupt\u001b[0m                         Traceback (most recent call last)",
      "\u001b[1;32mc:\\Users\\mheva\\OneDrive\\Documents\\GitHub\\Stitching_Arm_Master_Thesis\\Inverse_Kinematics\\Simulate Robot2.ipynb Cell 16\u001b[0m in \u001b[0;36m1\n\u001b[1;32m----> <a href='vscode-notebook-cell:/c%3A/Users/mheva/OneDrive/Documents/GitHub/Stitching_Arm_Master_Thesis/Inverse_Kinematics/Simulate%20Robot2.ipynb#X21sZmlsZQ%3D%3D?line=0'>1</a>\u001b[0m train_positions_paths(For_model, model, \u001b[39m2000\u001b[39;49m)\n",
      "File \u001b[1;32mc:\\Users\\mheva\\OneDrive\\Documents\\GitHub\\Stitching_Arm_Master_Thesis\\Inverse_Kinematics\\..\\learn.py:84\u001b[0m, in \u001b[0;36mtrain_positions_paths\u001b[1;34m(For_model, model, n_cycles)\u001b[0m\n\u001b[0;32m     82\u001b[0m n \u001b[39m+\u001b[39m\u001b[39m=\u001b[39m \u001b[39m1\u001b[39m\n\u001b[0;32m     83\u001b[0m \u001b[39mif\u001b[39;00m \u001b[39mnot\u001b[39;00m second:\n\u001b[1;32m---> 84\u001b[0m     inputs, target \u001b[39m=\u001b[39m For_model\u001b[39m.\u001b[39;49mgenerate_paths(\u001b[39m3000\u001b[39;49m)\n\u001b[0;32m     85\u001b[0m \u001b[39melse\u001b[39;00m:\n\u001b[0;32m     86\u001b[0m      inputs, target \u001b[39m=\u001b[39m For_model\u001b[39m.\u001b[39mgenerate_paths(\u001b[39m4000\u001b[39m)\n",
      "File \u001b[1;32mc:\\Users\\mheva\\OneDrive\\Documents\\GitHub\\Stitching_Arm_Master_Thesis\\Inverse_Kinematics\\..\\kinematics.py:154\u001b[0m, in \u001b[0;36mKinematics.generate_paths\u001b[1;34m(self, n)\u001b[0m\n\u001b[0;32m    152\u001b[0m \u001b[39mself\u001b[39m\u001b[39m.\u001b[39mset_motor_positions(mot_pos)\n\u001b[0;32m    153\u001b[0m act_pos \u001b[39m=\u001b[39m \u001b[39mself\u001b[39m\u001b[39m.\u001b[39mget_active()\n\u001b[1;32m--> 154\u001b[0m end_pos \u001b[39m=\u001b[39m \u001b[39mself\u001b[39;49m\u001b[39m.\u001b[39;49mrun_forward()\n\u001b[0;32m    155\u001b[0m inputs\u001b[39m.\u001b[39mappend(end_pos)\n\u001b[0;32m    156\u001b[0m target\u001b[39m.\u001b[39mappend(act_pos)\n",
      "File \u001b[1;32mc:\\Users\\mheva\\OneDrive\\Documents\\GitHub\\Stitching_Arm_Master_Thesis\\Inverse_Kinematics\\..\\kinematics.py:44\u001b[0m, in \u001b[0;36mKinematics.run_forward\u001b[1;34m(self, DH, end_only)\u001b[0m\n\u001b[0;32m     39\u001b[0m \u001b[39mdef\u001b[39;00m \u001b[39mrun_forward\u001b[39m(\u001b[39mself\u001b[39m, DH\u001b[39m=\u001b[39m\u001b[39mNone\u001b[39;00m, end_only\u001b[39m=\u001b[39m\u001b[39mTrue\u001b[39;00m):\n\u001b[0;32m     42\u001b[0m     \u001b[39mif\u001b[39;00m DH \u001b[39mis\u001b[39;00m \u001b[39mNone\u001b[39;00m:   DH \u001b[39m=\u001b[39m \u001b[39mself\u001b[39m\u001b[39m.\u001b[39mget_motor_positions()\n\u001b[1;32m---> 44\u001b[0m     position \u001b[39m=\u001b[39m forward_all(\u001b[39m*\u001b[39;49mDH) \n\u001b[0;32m     46\u001b[0m     \u001b[39mif\u001b[39;00m end_only:\n\u001b[0;32m     47\u001b[0m         position \u001b[39m=\u001b[39m position[:\u001b[39m3\u001b[39m,\u001b[39m-\u001b[39m\u001b[39m1\u001b[39m]    \n",
      "File \u001b[1;32mc:\\Users\\mheva\\OneDrive\\Documents\\GitHub\\Stitching_Arm_Master_Thesis\\Inverse_Kinematics\\..\\kinematics.py:328\u001b[0m, in \u001b[0;36mforward_all\u001b[1;34m(alpha, theta, radius, dists)\u001b[0m\n\u001b[0;32m    325\u001b[0m     B \u001b[39m=\u001b[39m np\u001b[39m.\u001b[39mmatmul(DH,A\u001b[39m.\u001b[39mT)\u001b[39m.\u001b[39mT   \n\u001b[0;32m    326\u001b[0m     positions\u001b[39m.\u001b[39mappend(B)\n\u001b[1;32m--> 328\u001b[0m positions \u001b[39m=\u001b[39m np\u001b[39m.\u001b[39;49marray(positions)\n\u001b[0;32m    330\u001b[0m \u001b[39mreturn\u001b[39;00m positions[:,\u001b[39m0\u001b[39m,:\u001b[39m3\u001b[39m]\u001b[39m.\u001b[39mT\n",
      "\u001b[1;31mKeyboardInterrupt\u001b[0m: "
     ]
    }
   ],
   "source": [
    "train_positions_paths(For_model, model, 2000)"
   ]
  },
  {
   "cell_type": "code",
   "execution_count": 46,
   "id": "f0aa0275",
   "metadata": {},
   "outputs": [
    {
     "name": "stdout",
     "output_type": "stream",
     "text": [
      "tensor(55484.5938, grad_fn=<MeanBackward0>)\n"
     ]
    }
   ],
   "source": [
    "evaluate_plot(For_model, model)"
   ]
  },
  {
   "attachments": {},
   "cell_type": "markdown",
   "id": "d1afdfb8",
   "metadata": {},
   "source": [
    "# Prototype code to test Machine"
   ]
  },
  {
   "cell_type": "code",
   "execution_count": null,
   "id": "d2fc0723",
   "metadata": {},
   "outputs": [],
   "source": [
    "inputs, target = For_model.generate_maps(n=1)\n",
    "#mot_pos = np.array([alpha,theta,radius,dists])\n",
    "n= np.random.randint(len(inputs))\n",
    "#######################\n",
    "pred = model(torch.Tensor(inputs[n:n+1])).detach()\n",
    "######################\n",
    "For_model.set_active(pred[0])\n",
    "For_model.update_position()\n",
    "pos_pred = For_model.run_forward().round(2)\n",
    "#######################\n",
    "For_model.set_active(target[n])\n",
    "pos_targ = For_model.run_forward().round(2)\n",
    "########################\n",
    "print(\"--- x y z ---\")\n",
    "print(inputs[n].round(2))\n",
    "print(pos_targ)\n",
    "print(pos_pred )\n",
    "print(\"--- torch ---\")\n",
    "pred_xys = with_torch().forward_from_active(For_model, target[n:n+1])\n",
    "print(pred_xys[0,0].numpy().round(2))\n",
    "pred_xys = with_torch().forward_from_active(For_model, pred)\n",
    "print(pred_xys[0,0].numpy().round(2))\n",
    "print(\"--- motor positions ---\")\n",
    "print(target[n].round(2))\n",
    "print(pred.numpy().round(2)[0])"
   ]
  },
  {
   "cell_type": "code",
   "execution_count": null,
   "id": "ed3b0c15",
   "metadata": {},
   "outputs": [],
   "source": []
  },
  {
   "cell_type": "code",
   "execution_count": null,
   "id": "a70c3b85",
   "metadata": {},
   "outputs": [],
   "source": []
  },
  {
   "cell_type": "code",
   "execution_count": null,
   "id": "0636d0eb",
   "metadata": {},
   "outputs": [],
   "source": [
    "def get_DH(For_model):\n",
    "    alpha  = torch.tensor(1.*np.array(For_model.alpha)) \n",
    "    theta  = torch.tensor(1.*np.array(For_model.theta)) \n",
    "    radius = torch.tensor(1.*np.array(For_model.radius))\n",
    "    dists  = torch.tensor(1.*np.array(For_model.dists)) \n",
    "    active = For_model.active\n",
    "    DH = torch.stack([alpha, theta, radius, dists])\n",
    "    return DH\n",
    "\n",
    "def get_transform(DH):\n",
    "    alpha, theta, radius, dists = DH\n",
    "    alpha = torch.deg2rad(alpha)\n",
    "    theta = torch.deg2rad(theta)\n",
    "    \n",
    "    TFs = make_transforms(alpha, theta, radius, dists)\n",
    "    return TFs[-1]\n",
    "\n",
    "def make_transforms(alpha, theta, radius, dists):\n",
    "\n",
    "    mot_params = torch.stack([alpha, theta, radius, dists])\n",
    "\n",
    "    Tfs = []\n",
    "    T = torch.eye(4)\n",
    "    for i in range(mot_params.shape[1]):\n",
    "        a,t,r,d = mot_params[:,i]\n",
    "        DHt = DH_transform(a,t,r,d) \n",
    "        T = torch.matmul(T,DHt)     \n",
    "        Tfs.append(T)\n",
    "\n",
    "    return Tfs\n",
    "\n",
    "def DH_transform(a,t,r,z):\n",
    "        Zt = Z_transform(a,t,r,z)\n",
    "        Xt = X_transform(a,t,r,z)\n",
    "        DHt = torch.matmul(Zt,Xt)\n",
    "        return DHt\n",
    "\n",
    "    ###############################################\n",
    "def X_transform(a,t,r,d):\n",
    "\n",
    "    Xt = torch.eye(4)\n",
    "    Xt[0,3] = r\n",
    "    Xt[1,1] = torch.cos(a)\n",
    "    Xt[1,2] = -1*torch.sin(a)\n",
    "    Xt[2,1] = torch.sin(a)\n",
    "    Xt[2,2] = torch.cos(a)\n",
    "\n",
    "    return Xt\n",
    "\n",
    "def Z_transform(a,t,r,d):\n",
    "\n",
    "    Zt = torch.eye(4)\n",
    "    Zt[0,0] = torch.cos(t)\n",
    "    Zt[0,1] = -1*torch.sin(t)\n",
    "    Zt[1,0] = torch.sin(t)\n",
    "    Zt[1,1] = torch.cos(t)\n",
    "    Zt[2,3] = d\n",
    "\n",
    "    return Zt"
   ]
  },
  {
   "cell_type": "code",
   "execution_count": null,
   "id": "bccd5a95",
   "metadata": {},
   "outputs": [],
   "source": [
    "matrix = torch.Tensor(np.eye(3))"
   ]
  },
  {
   "cell_type": "code",
   "execution_count": null,
   "id": "01e33b81",
   "metadata": {},
   "outputs": [],
   "source": [
    "rot_angle = torch_matrix_to_rotation( matrix )\n",
    "rot_angle"
   ]
  },
  {
   "cell_type": "code",
   "execution_count": null,
   "id": "8f258b33",
   "metadata": {},
   "outputs": [],
   "source": [
    "DH = get_DH(For_model)\n",
    "TF = get_transform(DH)\n",
    "matrix = TF[:3,:3]"
   ]
  },
  {
   "cell_type": "code",
   "execution_count": null,
   "id": "f2b7bddd",
   "metadata": {},
   "outputs": [],
   "source": [
    "rotation = np.array(rotation)"
   ]
  },
  {
   "cell_type": "code",
   "execution_count": null,
   "id": "c7486d37",
   "metadata": {},
   "outputs": [],
   "source": []
  },
  {
   "cell_type": "code",
   "execution_count": null,
   "id": "7fb510b4",
   "metadata": {},
   "outputs": [],
   "source": [
    "DH = get_DH(For_model)\n",
    "TF = get_transform(DH)\n",
    "matrix = TF[:3,:3]\n",
    "\n",
    "matrix = torch.Tensor(R.from_euler(\"XYZ\",[np.pi/2,np.pi/3,np.pi]).as_matrix())"
   ]
  },
  {
   "cell_type": "code",
   "execution_count": null,
   "id": "628646c9",
   "metadata": {},
   "outputs": [],
   "source": []
  },
  {
   "cell_type": "code",
   "execution_count": null,
   "id": "a5c58ecf",
   "metadata": {},
   "outputs": [],
   "source": [
    "for _ in range(100):\n",
    "    rot = np.random.uniform(np.pi,size=(3))\n",
    "    out = R.from_matrix(R.from_euler(\"XYZ\",rot).as_matrix()).as_euler(\"XYZ\")\n",
    "    if out[0]<0:  \n",
    "        out[[0,2]] = out[[0,2]] + np.pi\n",
    "        out[[1]]   = np.pi - out[[1]] \n",
    "    print(rot, out, rot.round(4) == out.round(4)) "
   ]
  },
  {
   "cell_type": "code",
   "execution_count": null,
   "id": "fde61326",
   "metadata": {},
   "outputs": [],
   "source": [
    "For_model = kinematics(alpha, theta, radius, dists, active, limits)"
   ]
  },
  {
   "cell_type": "code",
   "execution_count": null,
   "id": "611d8170",
   "metadata": {},
   "outputs": [],
   "source": [
    "inputs, target = For_model.generate_maps()\n",
    "#mot_pos = np.array([alpha,theta,radius,dists])\n",
    "#n= np.random.randint(len(inputs))\n",
    "pred = model(torch.Tensor(inputs)).detach().numpy()"
   ]
  },
  {
   "cell_type": "code",
   "execution_count": null,
   "id": "5bfb61bf",
   "metadata": {},
   "outputs": [],
   "source": []
  },
  {
   "cell_type": "code",
   "execution_count": null,
   "id": "d68141e4",
   "metadata": {},
   "outputs": [],
   "source": [
    "For_model = kinematics(alpha, theta, radius, dists, active, limits)"
   ]
  },
  {
   "cell_type": "code",
   "execution_count": null,
   "id": "37d4f9af",
   "metadata": {},
   "outputs": [],
   "source": [
    "For_model.orientation = True"
   ]
  },
  {
   "cell_type": "code",
   "execution_count": null,
   "id": "6a6ad9ae",
   "metadata": {},
   "outputs": [],
   "source": []
  },
  {
   "cell_type": "markdown",
   "id": "96d89dba",
   "metadata": {},
   "source": [
    "## 2D TEST"
   ]
  },
  {
   "cell_type": "code",
   "execution_count": null,
   "id": "76f71160",
   "metadata": {},
   "outputs": [],
   "source": [
    "size = 1000\n",
    "t = np.random.randint(-10,370,size=size)\n",
    "r = np.random.randint(100,size=size)\n",
    "inputs = np.array([r,t]).T\n",
    "\n",
    "x = np.sin(np.radians(t))*r\n",
    "y = np.cos(np.radians(t))*r\n",
    "target = np.array([x,y]).T\n",
    "\n",
    "inputs,target = target,inputs"
   ]
  },
  {
   "cell_type": "code",
   "execution_count": null,
   "id": "6e7e4ac1",
   "metadata": {},
   "outputs": [],
   "source": [
    "n_in  = inputs.shape[1]\n",
    "n_out = target.shape[1]\n",
    "model = NeuralNetworkStack(n_in, n_out, nlayers=15, depth=100)\n",
    "#model = NeuralNetworkSinusoid(n_in, n_out)\n",
    "optimizer = optim.Adam(model.parameters(), lr=1e-3)"
   ]
  },
  {
   "cell_type": "code",
   "execution_count": null,
   "id": "cc8ea388",
   "metadata": {},
   "outputs": [],
   "source": [
    "#optimizer = optim.Adam(model.parameters(), lr=1e-3)\n",
    "for n in range(100):\n",
    "    size = 500\n",
    "    t = np.random.randint(-10,370,size=size)\n",
    "    r = np.random.randint(150,size=size)\n",
    "    inputs = np.array([r,t]).T\n",
    "\n",
    "    x = np.sin(np.radians(t))*r\n",
    "    y = np.cos(np.radians(t))*r\n",
    "    target = np.array([x,y]).T\n",
    "    \n",
    "    train_loop(model, inputs, target, distance_loss,optimizer)\n",
    "        \n",
    "    if n % 10 == 0:\n",
    "        optimizer.param_groups[0][\"lr\"] = optimizer.param_groups[0][\"lr\"]*0.5        "
   ]
  },
  {
   "cell_type": "code",
   "execution_count": null,
   "id": "73d6de41",
   "metadata": {},
   "outputs": [],
   "source": [
    "n= np.random.randint(len(inputs))\n",
    "xy = target[n]\n",
    "pred = model(torch.Tensor(inputs[n:n+1])).detach().numpy()\n",
    "print(inputs[n])\n",
    "print(target[n])\n",
    "print(pred.round(2))"
   ]
  },
  {
   "cell_type": "code",
   "execution_count": null,
   "id": "1e870fcc",
   "metadata": {},
   "outputs": [],
   "source": [
    "size = 1000\n",
    "t = np.random.randint(-10,370,size=size)\n",
    "r = np.random.randint(150,size=size)\n",
    "inputs = np.array([r,t]).T\n",
    "\n",
    "x = np.sin(np.radians(t))*r\n",
    "y = np.cos(np.radians(t))*r\n",
    "target = np.array([x,y]).T\n",
    "\n",
    "inputs, target = target, inputs\n",
    "\n",
    "pred = model(torch.Tensor(inputs)).detach().numpy()\n",
    "\n",
    "\n",
    "\n",
    "r = inputs[:,0]\n",
    "t = inputs[:,1]\n",
    "\n",
    "x = target[:,0]\n",
    "y = target[:,1]\n",
    "\n",
    "x1 = r*np.sin(np.radians(t))\n",
    "y1 = r*np.cos(np.radians(t))\n",
    "\n",
    "x2 = pred[:,0]\n",
    "y2 = pred[:,1]\n",
    "\n",
    "x2 = r*np.sin(np.radians(x2))\n",
    "y2 = r*np.cos(np.radians(y2))\n",
    "\n",
    "plt.plot(x,y,\"bo\")\n",
    "#plt.plot(x1,y1,)\n",
    "plt.plot(x2,y2,\"ro\")\n",
    "plt.plot([x,x2],[y,y2],\"g\")"
   ]
  },
  {
   "cell_type": "code",
   "execution_count": null,
   "id": "61b0eb18",
   "metadata": {},
   "outputs": [],
   "source": [
    "size = 1000\n",
    "\n",
    "pred = model(torch.Tensor(inputs)).detach().numpy()\n",
    "\n",
    "x = target[:,0]\n",
    "y = target[:,1]\n",
    "\n",
    "x2 = pred[:,0]\n",
    "y2 = pred[:,1]\n",
    "\n",
    "\n",
    "plt.plot(x,y,\"bo\")\n",
    "#plt.plot(x1,y1,)\n",
    "plt.plot(x2,y2,\"ro\")\n",
    "plt.plot([x,x2],[y,y2],\"g\")"
   ]
  },
  {
   "cell_type": "code",
   "execution_count": null,
   "id": "81245fe9",
   "metadata": {},
   "outputs": [],
   "source": [
    "    def forward(self,x_in):\n",
    "                \n",
    "        x_next = self.layer_first(x_in)\n",
    "    \n",
    "        out_list = [x_in,x_next]\n",
    "        for n, block in enumerate(self.blocks):\n",
    "            x_next = block(x_next) \n",
    "            out_list.append(x_next)  \n",
    "            \n",
    "        x = torch.cat(out_list, dim=1)\n",
    "        \n",
    "        x = F.leaky_relu(x)\n",
    "        print(x)\n",
    "\n",
    "        out = self.layer_last(x)\n",
    "        \n",
    "        return out"
   ]
  },
  {
   "cell_type": "code",
   "execution_count": null,
   "id": "4adfd942",
   "metadata": {},
   "outputs": [],
   "source": []
  }
 ],
 "metadata": {
  "kernelspec": {
   "display_name": "master",
   "language": "python",
   "name": "python3"
  },
  "language_info": {
   "codemirror_mode": {
    "name": "ipython",
    "version": 3
   },
   "file_extension": ".py",
   "mimetype": "text/x-python",
   "name": "python",
   "nbconvert_exporter": "python",
   "pygments_lexer": "ipython3",
   "version": "3.9.13"
  },
  "vscode": {
   "interpreter": {
    "hash": "beab7ce2029b082e1bb9b792842da13913ce9bb05e6d0c59563a31fddbf544a4"
   }
  }
 },
 "nbformat": 4,
 "nbformat_minor": 5
}
