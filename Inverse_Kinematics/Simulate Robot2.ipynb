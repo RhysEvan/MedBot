{
 "cells": [
  {
   "cell_type": "code",
   "execution_count": null,
   "id": "f12077a0",
   "metadata": {},
   "outputs": [],
   "source": [
    "%matplotlib qt\n",
    "import numpy as np\n",
    "import matplotlib.pyplot as plt\n",
    "import torch\n",
    "import torch.optim as optim\n",
    "\n",
    "%load_ext autoreload\n",
    "%autoreload 2"
   ]
  },
  {
   "cell_type": "code",
   "execution_count": null,
   "id": "e913f89f",
   "metadata": {},
   "outputs": [],
   "source": [
    "#from forward import *\n",
    "import sys\n",
    "sys.path.append(\"../static/\")\n",
    "sys.path.append(\"..\")\n",
    "import kinematics\n",
    "from inverse import with_torch\n",
    "from presets_robot_models import preset_models\n",
    "#from learn import evaluate_plot, train_motors\n",
    "from learn import *"
   ]
  },
  {
   "cell_type": "code",
   "execution_count": null,
   "id": "a06a2546",
   "metadata": {},
   "outputs": [],
   "source": [
    "alpha, theta, radius, dists, active, limits = get_DH_params(preset_models[\"HangingArm\"])"
   ]
  },
  {
   "cell_type": "code",
   "execution_count": null,
   "id": "3a59c300",
   "metadata": {},
   "outputs": [],
   "source": [
    "For_model = kinematics.Kinematics(\"HangingArm\")"
   ]
  },
  {
   "cell_type": "code",
   "execution_count": null,
   "id": "d029003d",
   "metadata": {},
   "outputs": [],
   "source": [
    "model = torch.load(\"./kine_models/HangingArm.pt\")"
   ]
  },
  {
   "attachments": {},
   "cell_type": "markdown",
   "id": "eba69998",
   "metadata": {},
   "source": [
    "# For Training"
   ]
  },
  {
   "cell_type": "code",
   "execution_count": null,
   "id": "537abb92",
   "metadata": {},
   "outputs": [],
   "source": [
    "For_model.orientation = False\n",
    "inputs, target = For_model.generate_maps()\n",
    "n_in  = inputs.shape[1]\n",
    "n_out = target.shape[1]\n",
    "model = NeuralNetworkStack(n_in, n_out, nlayers=5, depth=20)\n",
    "optimizer = optim.Adam(model.parameters(), lr=1e-3)"
   ]
  },
  {
   "attachments": {},
   "cell_type": "markdown",
   "id": "85c61064",
   "metadata": {},
   "source": [
    "# generate map"
   ]
  },
  {
   "cell_type": "code",
   "execution_count": null,
   "id": "e8ef4afb",
   "metadata": {},
   "outputs": [],
   "source": [
    "inputs, target = For_model.generate_maps()"
   ]
  },
  {
   "cell_type": "code",
   "execution_count": null,
   "id": "7443f693",
   "metadata": {},
   "outputs": [],
   "source": [
    "For_model.orientation = False"
   ]
  },
  {
   "cell_type": "code",
   "execution_count": null,
   "id": "04123e31",
   "metadata": {},
   "outputs": [],
   "source": [
    "evaluate_plot(For_model, model)"
   ]
  },
  {
   "cell_type": "code",
   "execution_count": null,
   "id": "a54963e5",
   "metadata": {},
   "outputs": [],
   "source": [
    "train_positions(For_model, model)"
   ]
  },
  {
   "cell_type": "code",
   "execution_count": null,
   "id": "f19b4adb",
   "metadata": {
    "scrolled": false
   },
   "outputs": [],
   "source": [
    "train_motors(For_model, model)"
   ]
  },
  {
   "attachments": {},
   "cell_type": "markdown",
   "id": "e06a8240",
   "metadata": {},
   "source": [
    "# Blind Testing"
   ]
  },
  {
   "cell_type": "code",
   "execution_count": null,
   "id": "13ea563d",
   "metadata": {},
   "outputs": [],
   "source": [
    "For_model.orientation = True\n",
    "inputs, targets = For_model.generate_paths()\n",
    "model = NeuralNetworkBlind(inputs.shape[1], targets.shape[1], nlayers=8, depth=10)\n",
    "optimizer = optim.Adam(model.parameters(), lr=1e-3)"
   ]
  },
  {
   "cell_type": "code",
   "execution_count": null,
   "id": "04e9678d",
   "metadata": {},
   "outputs": [],
   "source": [
    "train_positions_paths(For_model, model, 2000)"
   ]
  },
  {
   "cell_type": "code",
   "execution_count": 126,
   "id": "f0aa0275",
   "metadata": {},
   "outputs": [
    {
     "name": "stdout",
     "output_type": "stream",
     "text": [
      "tensor([[ -6., 135., 199., 360., 180.,  88.],\n",
      "        [ -2., 135., 198., 359., 180.,  89.],\n",
      "        [  0., 135., 203.,   2., 180.,  90.],\n",
      "        [  2., 134., 198., 359., 180.,  91.],\n",
      "        [ -6., 134., 199., 359., 180.,  88.]])\n",
      "tensor(13404.8438, grad_fn=<MeanBackward0>)\n",
      "tensor(176.7262)\n"
     ]
    }
   ],
   "source": [
    "evaluate_plot(For_model, model)"
   ]
  },
  {
   "attachments": {},
   "cell_type": "markdown",
   "id": "d1afdfb8",
   "metadata": {},
   "source": [
    "# Prototype code to test Machine"
   ]
  },
  {
   "cell_type": "code",
   "execution_count": null,
   "id": "d2fc0723",
   "metadata": {},
   "outputs": [],
   "source": [
    "inputs, target = For_model.generate_maps(n=1)\n",
    "#mot_pos = np.array([alpha,theta,radius,dists])\n",
    "n= np.random.randint(len(inputs))\n",
    "#######################\n",
    "pred = model(torch.Tensor(inputs[n:n+1])).detach()\n",
    "######################\n",
    "For_model.set_active(pred[0])\n",
    "For_model.update_position()\n",
    "pos_pred = For_model.run_forward().round(2)\n",
    "#######################\n",
    "For_model.set_active(target[n])\n",
    "pos_targ = For_model.run_forward().round(2)\n",
    "########################\n",
    "print(\"--- x y z ---\")\n",
    "print(inputs[n].round(2))\n",
    "print(pos_targ)\n",
    "print(pos_pred )\n",
    "print(\"--- torch ---\")\n",
    "pred_xys = with_torch().forward_from_active(For_model, target[n:n+1])\n",
    "print(pred_xys[0,0].numpy().round(2))\n",
    "pred_xys = with_torch().forward_from_active(For_model, pred)\n",
    "print(pred_xys[0,0].numpy().round(2))\n",
    "print(\"--- motor positions ---\")\n",
    "print(target[n].round(2))\n",
    "print(pred.numpy().round(2)[0])"
   ]
  },
  {
   "cell_type": "code",
   "execution_count": null,
   "id": "ed3b0c15",
   "metadata": {},
   "outputs": [],
   "source": []
  },
  {
   "cell_type": "code",
   "execution_count": null,
   "id": "a70c3b85",
   "metadata": {},
   "outputs": [],
   "source": []
  },
  {
   "cell_type": "code",
   "execution_count": null,
   "id": "0636d0eb",
   "metadata": {},
   "outputs": [],
   "source": [
    "def get_DH(For_model):\n",
    "    alpha  = torch.tensor(1.*np.array(For_model.alpha)) \n",
    "    theta  = torch.tensor(1.*np.array(For_model.theta)) \n",
    "    radius = torch.tensor(1.*np.array(For_model.radius))\n",
    "    dists  = torch.tensor(1.*np.array(For_model.dists)) \n",
    "    active = For_model.active\n",
    "    DH = torch.stack([alpha, theta, radius, dists])\n",
    "    return DH\n",
    "\n",
    "def get_transform(DH):\n",
    "    alpha, theta, radius, dists = DH\n",
    "    alpha = torch.deg2rad(alpha)\n",
    "    theta = torch.deg2rad(theta)\n",
    "    \n",
    "    TFs = make_transforms(alpha, theta, radius, dists)\n",
    "    return TFs[-1]\n",
    "\n",
    "def make_transforms(alpha, theta, radius, dists):\n",
    "\n",
    "    mot_params = torch.stack([alpha, theta, radius, dists])\n",
    "\n",
    "    Tfs = []\n",
    "    T = torch.eye(4)\n",
    "    for i in range(mot_params.shape[1]):\n",
    "        a,t,r,d = mot_params[:,i]\n",
    "        DHt = DH_transform(a,t,r,d) \n",
    "        T = torch.matmul(T,DHt)     \n",
    "        Tfs.append(T)\n",
    "\n",
    "    return Tfs\n",
    "\n",
    "def DH_transform(a,t,r,z):\n",
    "        Zt = Z_transform(a,t,r,z)\n",
    "        Xt = X_transform(a,t,r,z)\n",
    "        DHt = torch.matmul(Zt,Xt)\n",
    "        return DHt\n",
    "\n",
    "    ###############################################\n",
    "def X_transform(a,t,r,d):\n",
    "\n",
    "    Xt = torch.eye(4)\n",
    "    Xt[0,3] = r\n",
    "    Xt[1,1] = torch.cos(a)\n",
    "    Xt[1,2] = -1*torch.sin(a)\n",
    "    Xt[2,1] = torch.sin(a)\n",
    "    Xt[2,2] = torch.cos(a)\n",
    "\n",
    "    return Xt\n",
    "\n",
    "def Z_transform(a,t,r,d):\n",
    "\n",
    "    Zt = torch.eye(4)\n",
    "    Zt[0,0] = torch.cos(t)\n",
    "    Zt[0,1] = -1*torch.sin(t)\n",
    "    Zt[1,0] = torch.sin(t)\n",
    "    Zt[1,1] = torch.cos(t)\n",
    "    Zt[2,3] = d\n",
    "\n",
    "    return Zt"
   ]
  },
  {
   "cell_type": "code",
   "execution_count": null,
   "id": "bccd5a95",
   "metadata": {},
   "outputs": [],
   "source": [
    "matrix = torch.Tensor(np.eye(3))"
   ]
  },
  {
   "cell_type": "code",
   "execution_count": null,
   "id": "01e33b81",
   "metadata": {},
   "outputs": [],
   "source": [
    "rot_angle = torch_matrix_to_rotation( matrix )\n",
    "rot_angle"
   ]
  },
  {
   "cell_type": "code",
   "execution_count": null,
   "id": "8f258b33",
   "metadata": {},
   "outputs": [],
   "source": [
    "DH = get_DH(For_model)\n",
    "TF = get_transform(DH)\n",
    "matrix = TF[:3,:3]"
   ]
  },
  {
   "cell_type": "code",
   "execution_count": null,
   "id": "f2b7bddd",
   "metadata": {},
   "outputs": [],
   "source": [
    "rotation = np.array(rotation)"
   ]
  },
  {
   "cell_type": "code",
   "execution_count": null,
   "id": "c7486d37",
   "metadata": {},
   "outputs": [],
   "source": []
  },
  {
   "cell_type": "code",
   "execution_count": null,
   "id": "7fb510b4",
   "metadata": {},
   "outputs": [],
   "source": [
    "DH = get_DH(For_model)\n",
    "TF = get_transform(DH)\n",
    "matrix = TF[:3,:3]\n",
    "\n",
    "matrix = torch.Tensor(R.from_euler(\"XYZ\",[np.pi/2,np.pi/3,np.pi]).as_matrix())"
   ]
  },
  {
   "cell_type": "code",
   "execution_count": null,
   "id": "628646c9",
   "metadata": {},
   "outputs": [],
   "source": []
  },
  {
   "cell_type": "code",
   "execution_count": null,
   "id": "a5c58ecf",
   "metadata": {},
   "outputs": [],
   "source": [
    "for _ in range(100):\n",
    "    rot = np.random.uniform(np.pi,size=(3))\n",
    "    out = R.from_matrix(R.from_euler(\"XYZ\",rot).as_matrix()).as_euler(\"XYZ\")\n",
    "    if out[0]<0:  \n",
    "        out[[0,2]] = out[[0,2]] + np.pi\n",
    "        out[[1]]   = np.pi - out[[1]] \n",
    "    print(rot, out, rot.round(4) == out.round(4)) "
   ]
  },
  {
   "cell_type": "code",
   "execution_count": null,
   "id": "fde61326",
   "metadata": {},
   "outputs": [],
   "source": [
    "For_model = kinematics(alpha, theta, radius, dists, active, limits)"
   ]
  },
  {
   "cell_type": "code",
   "execution_count": null,
   "id": "611d8170",
   "metadata": {},
   "outputs": [],
   "source": [
    "inputs, target = For_model.generate_maps()\n",
    "#mot_pos = np.array([alpha,theta,radius,dists])\n",
    "#n= np.random.randint(len(inputs))\n",
    "pred = model(torch.Tensor(inputs)).detach().numpy()"
   ]
  },
  {
   "cell_type": "code",
   "execution_count": null,
   "id": "5bfb61bf",
   "metadata": {},
   "outputs": [],
   "source": []
  },
  {
   "cell_type": "code",
   "execution_count": null,
   "id": "d68141e4",
   "metadata": {},
   "outputs": [],
   "source": [
    "For_model = kinematics(alpha, theta, radius, dists, active, limits)"
   ]
  },
  {
   "cell_type": "code",
   "execution_count": null,
   "id": "37d4f9af",
   "metadata": {},
   "outputs": [],
   "source": [
    "For_model.orientation = True"
   ]
  },
  {
   "cell_type": "code",
   "execution_count": null,
   "id": "6a6ad9ae",
   "metadata": {},
   "outputs": [],
   "source": []
  },
  {
   "cell_type": "markdown",
   "id": "96d89dba",
   "metadata": {},
   "source": [
    "## 2D TEST"
   ]
  },
  {
   "cell_type": "code",
   "execution_count": null,
   "id": "76f71160",
   "metadata": {},
   "outputs": [],
   "source": [
    "size = 1000\n",
    "t = np.random.randint(-10,370,size=size)\n",
    "r = np.random.randint(100,size=size)\n",
    "inputs = np.array([r,t]).T\n",
    "\n",
    "x = np.sin(np.radians(t))*r\n",
    "y = np.cos(np.radians(t))*r\n",
    "target = np.array([x,y]).T\n",
    "\n",
    "inputs,target = target,inputs"
   ]
  },
  {
   "cell_type": "code",
   "execution_count": null,
   "id": "6e7e4ac1",
   "metadata": {},
   "outputs": [],
   "source": [
    "n_in  = inputs.shape[1]\n",
    "n_out = target.shape[1]\n",
    "model = NeuralNetworkStack(n_in, n_out, nlayers=15, depth=100)\n",
    "#model = NeuralNetworkSinusoid(n_in, n_out)\n",
    "optimizer = optim.Adam(model.parameters(), lr=1e-3)"
   ]
  },
  {
   "cell_type": "code",
   "execution_count": null,
   "id": "cc8ea388",
   "metadata": {},
   "outputs": [],
   "source": [
    "#optimizer = optim.Adam(model.parameters(), lr=1e-3)\n",
    "for n in range(100):\n",
    "    size = 500\n",
    "    t = np.random.randint(-10,370,size=size)\n",
    "    r = np.random.randint(150,size=size)\n",
    "    inputs = np.array([r,t]).T\n",
    "\n",
    "    x = np.sin(np.radians(t))*r\n",
    "    y = np.cos(np.radians(t))*r\n",
    "    target = np.array([x,y]).T\n",
    "    \n",
    "    train_loop(model, inputs, target, distance_loss,optimizer)\n",
    "        \n",
    "    if n % 10 == 0:\n",
    "        optimizer.param_groups[0][\"lr\"] = optimizer.param_groups[0][\"lr\"]*0.5        "
   ]
  },
  {
   "cell_type": "code",
   "execution_count": null,
   "id": "73d6de41",
   "metadata": {},
   "outputs": [],
   "source": [
    "n= np.random.randint(len(inputs))\n",
    "xy = target[n]\n",
    "pred = model(torch.Tensor(inputs[n:n+1])).detach().numpy()\n",
    "print(inputs[n])\n",
    "print(target[n])\n",
    "print(pred.round(2))"
   ]
  },
  {
   "cell_type": "code",
   "execution_count": null,
   "id": "1e870fcc",
   "metadata": {},
   "outputs": [],
   "source": [
    "size = 1000\n",
    "t = np.random.randint(-10,370,size=size)\n",
    "r = np.random.randint(150,size=size)\n",
    "inputs = np.array([r,t]).T\n",
    "\n",
    "x = np.sin(np.radians(t))*r\n",
    "y = np.cos(np.radians(t))*r\n",
    "target = np.array([x,y]).T\n",
    "\n",
    "inputs, target = target, inputs\n",
    "\n",
    "pred = model(torch.Tensor(inputs)).detach().numpy()\n",
    "\n",
    "\n",
    "\n",
    "r = inputs[:,0]\n",
    "t = inputs[:,1]\n",
    "\n",
    "x = target[:,0]\n",
    "y = target[:,1]\n",
    "\n",
    "x1 = r*np.sin(np.radians(t))\n",
    "y1 = r*np.cos(np.radians(t))\n",
    "\n",
    "x2 = pred[:,0]\n",
    "y2 = pred[:,1]\n",
    "\n",
    "x2 = r*np.sin(np.radians(x2))\n",
    "y2 = r*np.cos(np.radians(y2))\n",
    "\n",
    "plt.plot(x,y,\"bo\")\n",
    "#plt.plot(x1,y1,)\n",
    "plt.plot(x2,y2,\"ro\")\n",
    "plt.plot([x,x2],[y,y2],\"g\")"
   ]
  },
  {
   "cell_type": "code",
   "execution_count": null,
   "id": "61b0eb18",
   "metadata": {},
   "outputs": [],
   "source": [
    "size = 1000\n",
    "\n",
    "pred = model(torch.Tensor(inputs)).detach().numpy()\n",
    "\n",
    "x = target[:,0]\n",
    "y = target[:,1]\n",
    "\n",
    "x2 = pred[:,0]\n",
    "y2 = pred[:,1]\n",
    "\n",
    "\n",
    "plt.plot(x,y,\"bo\")\n",
    "#plt.plot(x1,y1,)\n",
    "plt.plot(x2,y2,\"ro\")\n",
    "plt.plot([x,x2],[y,y2],\"g\")"
   ]
  },
  {
   "cell_type": "code",
   "execution_count": null,
   "id": "81245fe9",
   "metadata": {},
   "outputs": [],
   "source": [
    "    def forward(self,x_in):\n",
    "                \n",
    "        x_next = self.layer_first(x_in)\n",
    "    \n",
    "        out_list = [x_in,x_next]\n",
    "        for n, block in enumerate(self.blocks):\n",
    "            x_next = block(x_next) \n",
    "            out_list.append(x_next)  \n",
    "            \n",
    "        x = torch.cat(out_list, dim=1)\n",
    "        \n",
    "        x = F.leaky_relu(x)\n",
    "        print(x)\n",
    "\n",
    "        out = self.layer_last(x)\n",
    "        \n",
    "        return out"
   ]
  },
  {
   "cell_type": "code",
   "execution_count": null,
   "id": "4adfd942",
   "metadata": {},
   "outputs": [],
   "source": []
  }
 ],
 "metadata": {
  "kernelspec": {
   "display_name": "master",
   "language": "python",
   "name": "python3"
  },
  "language_info": {
   "codemirror_mode": {
    "name": "ipython",
    "version": 3
   },
   "file_extension": ".py",
   "mimetype": "text/x-python",
   "name": "python",
   "nbconvert_exporter": "python",
   "pygments_lexer": "ipython3",
   "version": "3.9.13"
  },
  "vscode": {
   "interpreter": {
    "hash": "beab7ce2029b082e1bb9b792842da13913ce9bb05e6d0c59563a31fddbf544a4"
   }
  }
 },
 "nbformat": 4,
 "nbformat_minor": 5
}
