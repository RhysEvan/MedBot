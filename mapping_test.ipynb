{
 "cells": [
  {
   "cell_type": "code",
   "execution_count": null,
   "metadata": {},
   "outputs": [],
   "source": [
    "import glob\n",
    "import cv2 as cv\n",
    "import numpy as np\n",
    "import mapping.Graycode as Graycode\n",
    "import os\n",
    "import mapping.Image_processor as Image_processor\n",
    "import pickle\n",
    "import mapping.InputParameters as InputParameters\n",
    "import csv\n",
    "import copy\n",
    "import matplotlib.pyplot as plt"
   ]
  },
  {
   "attachments": {},
   "cell_type": "markdown",
   "metadata": {},
   "source": [
    "Calibration Initializing Parameters"
   ]
  },
  {
   "cell_type": "code",
   "execution_count": null,
   "metadata": {},
   "outputs": [],
   "source": [
    "chessboardSize = (9,6)\n",
    "frameSize = (640,480)\n",
    "\n",
    "LeftCamera = InputParameters.LeftCamera\n",
    "RightCamera = InputParameters.RightCamera\n",
    "\n",
    "## Termination Criteria for iterative subpixel loop\n",
    "criteria = (cv.TERM_CRITERIA_EPS + cv.TERM_CRITERIA_MAX_ITER, 30, 0.001)\n",
    "\n",
    "## Prepare object points like (0,0,0), (1,0,0), (2,0,0) ....,(6,5,0)\n",
    "objp = np.zeros((chessboardSize[0] * chessboardSize[1], 3), np.float32)\n",
    "objp[:, :2] = np.mgrid[0:chessboardSize[0], 0:chessboardSize[1]].T.reshape(-1, 2)           ##https://answers.opencv.org/question/25022/stereo-calibration-baseline-in-meters/ NAKIJKEN!!!!\n",
    "objp = objp * 19                                            ## The distance between squares is 25mm, this way the translation vector is in mm unit\n",
    "\n",
    "## Arrays to store object points and image points from all the images.\n",
    "objPoints = []  # 3d point in real world space\n",
    "imgPointsL = []  # 2d points in image plane.\n",
    "imgPointsR = []"
   ]
  },
  {
   "attachments": {},
   "cell_type": "markdown",
   "metadata": {},
   "source": [
    "Taking pictures with cv for intrinsic and stereography calibration"
   ]
  },
  {
   "cell_type": "code",
   "execution_count": null,
   "metadata": {},
   "outputs": [],
   "source": [
    "\n",
    "def checkerboard_drawing(rgbL,rgbR,left,right):\n",
    "    # Find the chess board corners\n",
    "    retL, cornersL = cv.findChessboardCorners(left, chessboardSize, None)\n",
    "    retR, cornersR = cv.findChessboardCorners(right, chessboardSize, None)\n",
    "    if retL and retR == True:\n",
    "        objPoints.append(objp)\n",
    "\n",
    "        cornersL = cv.cornerSubPix(left, cornersL, (11, 11), (-1, -1), criteria)\n",
    "        imgPointsL.append(cornersL)\n",
    "\n",
    "        cornersR = cv.cornerSubPix(right, cornersR, (11, 11), (-1, -1), criteria)\n",
    "        imgPointsR.append(cornersR)\n",
    "\n",
    "        # Draw and display the corners\n",
    "        cv.drawChessboardCorners(rgbL, chessboardSize, cornersL, retL)\n",
    "        cv.drawChessboardCorners(rgbR, chessboardSize, cornersR, retR)\n",
    "        plt.subplot(2,1,1)\n",
    "        plt.imshow(rgbL)\n",
    "        plt.subplot(2,1,2)\n",
    "        plt.imshow(rgbR)\n",
    "        plt.show()\n",
    "    else:\n",
    "        print(\"Error in finding chessboard corners\")\n",
    "\n",
    "def matrix_determination(left,right):                    \n",
    "    retL, cameraMatrixL, distL, rvecsL, tvecsL= cv.calibrateCamera(objPoints, imgPointsL, frameSize, None, None)\n",
    "    heightL, widthL, channelsL = left.shape\n",
    "    newCameraMatrixL, roi_L = cv.getOptimalNewCameraMatrix(cameraMatrixL, distL, (widthL, heightL), 1,\n",
    "                                                                (widthL, heightL))\n",
    "    print(\"RMS error Left Camera :\",retL)   ##Error should be between 0 and 1 (as close to 0 as possible)\n",
    "\n",
    "    retR, cameraMatrixR, distR, rvecsR, tvecsR = cv.calibrateCamera(objPoints, imgPointsR, frameSize, None, None)\n",
    "    heightR, widthR, channelsR = right.shape\n",
    "    newCameraMatrixR, roi_R = cv.getOptimalNewCameraMatrix(cameraMatrixR, distR, (widthR, heightR), 1,\n",
    "                                                                (widthR, heightR))\n",
    "    print(\"RMS Error Right Camera :\",retR)  ##Error should be between 0 and 1 (as close to 0 as possible)\n",
    "    print ('Intrinsic Matrix Left Camera : ',cameraMatrixL)\n",
    "    print('Intrinsic Matrix Right Camera : ',cameraMatrixR)\n",
    "    return [newCameraMatrixL, cameraMatrixL, newCameraMatrixR, cameraMatrixR, distL, distR]\n",
    "\n",
    "def save_load(newCameraMatrixL,cameraMatrixL,newCameraMatrixR,cameraMatrixR,gray,distorL,distorR):\n",
    "    distL = distorL\n",
    "    distR = distorR\n",
    "    ## Save camera properties for possible later use\n",
    "    os.chdir(InputParameters.WorkingDirectory)\n",
    "    with open('CameraMatrixL.pkl', 'wb') as file1:\n",
    "        pickle.dump(cameraMatrixL, file1)\n",
    "    with open('CameraMatrixR.pkl', 'wb') as file2:\n",
    "        pickle.dump(cameraMatrixR, file2)\n",
    "    with open('DistortionL.pkl', 'wb') as file3:\n",
    "        pickle.dump(distorL, file3)\n",
    "    with open('DistortionR.pkl', 'wb') as file4:\n",
    "        pickle.dump(distorR, file4)\n",
    "\n",
    "\n",
    "    ################################### CALIBRATION BETWEEN 2 CAMERAS ############################################################\n",
    "    flags = 0\n",
    "    flags |= cv.CALIB_FIX_INTRINSIC\n",
    "    criteria_stereo = (cv.TERM_CRITERIA_EPS + cv.TERM_CRITERIA_MAX_ITER, 30, 0.001)\n",
    "    retStereo, newCameraMatrixL, distL, newCameraMatrixR, distR, rot, trans, essentialMatrix, fundamentalMatrix = cv.stereoCalibrate(\n",
    "        objPoints, imgPointsL, imgPointsR, newCameraMatrixL, distL, newCameraMatrixR, distR, gray.shape[::-1],\n",
    "        criteria_stereo, flags)\n",
    "\n",
    "\n",
    "    #################################### PROJECTION MATRICES #############################################################################\n",
    "    # Projection matrices for both cameras (P = M*R|t)     (left camera uses the identity matrix)\n",
    "\n",
    "    p1 = cameraMatrixL @ np.concatenate([np.eye(3), [[0], [0], [0]]], axis=-1)\n",
    "    p2 = cameraMatrixR @ np.concatenate([rot, trans], axis=-1)\n",
    "\n",
    "\n",
    "    # Save calibration parameters in file\n",
    "    os.chdir(InputParameters.WorkingDirectory)\n",
    "    with open('ProjectionMatrixLeftCam.pkl', 'wb') as file1:\n",
    "        pickle.dump(p1, file1)\n",
    "    with open('ProjectionMatrixRightCam.pkl', 'wb') as file2:\n",
    "        pickle.dump(p2, file2)\n",
    "    with open('RotationMatrix.pkl', 'wb') as file3:\n",
    "        pickle.dump(rot, file3)\n",
    "    with open('TranslationMatrix.pkl', 'wb') as file4:\n",
    "        pickle.dump(trans, file4)\n",
    "\n",
    "\n",
    "    os.chdir(InputParameters.WorkingDirectory)\n",
    "    with open('CameraMatrixL.pkl', 'rb') as file3:\n",
    "        IntrinsicMatrixL = pickle.load(file3)\n",
    "    with open('CameraMatrixR.pkl', 'rb') as file4:\n",
    "        IntrinsicMatrixR = pickle.load(file4)\n",
    "\n",
    "\n",
    "    with open('IntrinsicMatrixLCam.csv', 'w', newline='') as csvfile:\n",
    "        writer = csv.writer(csvfile)\n",
    "        writer.writerows(IntrinsicMatrixL)\n",
    "    with open('IntrinsicMatrixRCam.csv', 'w', newline='') as csvfile:\n",
    "        writer = csv.writer(csvfile)\n",
    "        writer.writerows(IntrinsicMatrixR)\n",
    "    with open('ExtrinsicMatrixRCam.csv', 'w', newline='') as csvfile:\n",
    "        my_writer = csv.writer(csvfile, delimiter=' ')\n",
    "        my_writer.writerow(np.concatenate([rot, trans], axis=-1))\n"
   ]
  },
  {
   "cell_type": "code",
   "execution_count": null,
   "metadata": {},
   "outputs": [],
   "source": [
    "cams = Image_processor.Image_Handle(test = True, location_L =LeftCamera, location_R =RightCamera)\n",
    "cams.OpenCAM()\n",
    "counter = 0\n",
    "print('Please take a minimum of 10 Images\\n')\n",
    "while True :\n",
    "    os.chdir(InputParameters.ChessboardImagesDirectory)\n",
    "    frameL,frameR = cams.GetCalibrateFrame()\n",
    "    plt.imshow(frameL)\n",
    "    plt.show()\n",
    "    plt.imshow(frameR)\n",
    "    plt.show()\n",
    "    reply = input(\"Reply with s if checkerboard is fully in image, press enter to simply run again, press q to quit.\\n\")\n",
    "    if \"s\" == reply:\n",
    "            imgL = copy.deepcopy(frameL)\n",
    "            imgR = copy.deepcopy(frameR)\n",
    "            grayL = cv.cvtColor(imgL, cv.COLOR_RGB2GRAY)\n",
    "            grayR = cv.cvtColor(imgR, cv.COLOR_RGB2GRAY)\n",
    "            checkerboard_drawing(imgL,imgR,grayL,grayR)\n",
    "            affirm = input(\"type y if happy:\\n\")\n",
    "            if affirm == \"y\":\n",
    "                cv.imwrite(\"ChessboardLeftCam{}.tiff\".format(counter), cv.cvtColor(frameL, cv.COLOR_RGB2BGR))\n",
    "                cv.imwrite(\"ChessboardRightCam{}.tiff\".format(counter), cv.cvtColor(frameR, cv.COLOR_RGB2BGR))\n",
    "                counter = counter + 1\n",
    "                print(counter, 'Pictures Saved')\n",
    "                newmatrixL, matrixL, newmatrixR, matrixR, dL, dR = matrix_determination(imgL,imgR)\n",
    "    elif \"q\" == reply:\n",
    "        break\n",
    "newmatrixL, matrixL, newmatrixR, matrixR, dL, dR = matrix_determination(imgL,imgR)\n",
    "save_load(newmatrixL,matrixL,newmatrixR,matrixR,grayL,dL,dR) "
   ]
  },
  {
   "attachments": {},
   "cell_type": "markdown",
   "metadata": {},
   "source": [
    "Stereography mapping initialization"
   ]
  },
  {
   "cell_type": "code",
   "execution_count": 5,
   "metadata": {},
   "outputs": [],
   "source": [
    "from mapping.Image_processor import Image_Handle\n",
    "from mapping.Graycode import *\n",
    "from mapping.Triangulation import triangulator\n",
    "from mapping.InputParameters import *\n",
    "from mapping.Detection import Detecting\n",
    "import time"
   ]
  },
  {
   "cell_type": "code",
   "execution_count": 8,
   "metadata": {},
   "outputs": [],
   "source": [
    "class Mapping():\n",
    "    def __init__(self):\n",
    "        self.cont_handler = Image_Handle()\n",
    "        self.detect = Detecting(self)\n",
    "        self.triang = triangulator(self)\n",
    "        self.test = False\n",
    "        self.handler = Image_Handle(test = True, location_L= InputParameters.LeftCamera, location_R= InputParameters.RightCamera)\n",
    "        self.handler.OpenCAM()\n",
    "    def gray_code_pictures(self):\n",
    "        start = time.time()\n",
    "        self.Vert_list, self.INV_Vert_list, self.Horz_list, self.INV_Horz_list = self.handler.single_run_frame(length)\n",
    "        end = time.time()\n",
    "        print(end-start)\n",
    "    def threshold(self):\n",
    "        self.Threshold_list = self.handler.single_run_Threshold()\n",
    "    def decode_gray_code(self):\n",
    "        self.detect.DecodeGrayCode(binaryMaxValue)\n",
    "    def gray2dec(self):\n",
    "        self.detect.Gray2Dec()\n",
    "    def triangualte(self):\n",
    "        ## Triangulation\n",
    "        self.triang.PrintParameters()\n",
    "        self.triang.Triangulate()"
   ]
  },
  {
   "attachments": {},
   "cell_type": "markdown",
   "metadata": {},
   "source": [
    "Take gray code pictures"
   ]
  },
  {
   "cell_type": "code",
   "execution_count": 10,
   "metadata": {},
   "outputs": [
    {
     "data": {
      "text/plain": [
       "<function __main__.Mapping.gray_code(self)>"
      ]
     },
     "execution_count": 10,
     "metadata": {},
     "output_type": "execute_result"
    }
   ],
   "source": [
    "Mapping.gray_code_pictures"
   ]
  },
  {
   "attachments": {},
   "cell_type": "markdown",
   "metadata": {},
   "source": [
    "Threshold determining"
   ]
  },
  {
   "cell_type": "code",
   "execution_count": null,
   "metadata": {},
   "outputs": [],
   "source": [
    "Mapping.threshold\n",
    "# should become an averaging value in some way where it can be determined what the threshold should be."
   ]
  },
  {
   "attachments": {},
   "cell_type": "markdown",
   "metadata": {},
   "source": [
    "Transform to binary gray code"
   ]
  },
  {
   "cell_type": "code",
   "execution_count": null,
   "metadata": {},
   "outputs": [],
   "source": [
    "Mapping.decode_gray_code"
   ]
  },
  {
   "attachments": {},
   "cell_type": "markdown",
   "metadata": {},
   "source": [
    "Transform gray code to decimal values"
   ]
  },
  {
   "cell_type": "code",
   "execution_count": null,
   "metadata": {},
   "outputs": [],
   "source": [
    "Mapping.gray2dec"
   ]
  },
  {
   "attachments": {},
   "cell_type": "markdown",
   "metadata": {},
   "source": [
    "Triangualte and visualize"
   ]
  },
  {
   "cell_type": "code",
   "execution_count": null,
   "metadata": {},
   "outputs": [],
   "source": [
    "Mapping.triangualte"
   ]
  }
 ],
 "metadata": {
  "kernelspec": {
   "display_name": "master",
   "language": "python",
   "name": "python3"
  },
  "language_info": {
   "codemirror_mode": {
    "name": "ipython",
    "version": 3
   },
   "file_extension": ".py",
   "mimetype": "text/x-python",
   "name": "python",
   "nbconvert_exporter": "python",
   "pygments_lexer": "ipython3",
   "version": "3.10.11"
  },
  "orig_nbformat": 4
 },
 "nbformat": 4,
 "nbformat_minor": 2
}
